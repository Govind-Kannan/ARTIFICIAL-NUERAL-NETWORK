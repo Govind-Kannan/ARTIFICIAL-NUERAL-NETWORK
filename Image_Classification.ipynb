{
  "nbformat": 4,
  "nbformat_minor": 0,
  "metadata": {
    "colab": {
      "provenance": [],
      "mount_file_id": "14jYpfLElpeJ03G7I5FvrIN8C-TBxFNkg",
      "authorship_tag": "ABX9TyMqOgdU1/M3nFlyUoEUkCly",
      "include_colab_link": true
    },
    "kernelspec": {
      "name": "python3",
      "display_name": "Python 3"
    },
    "language_info": {
      "name": "python"
    }
  },
  "cells": [
    {
      "cell_type": "markdown",
      "metadata": {
        "id": "view-in-github",
        "colab_type": "text"
      },
      "source": [
        "<a href=\"https://colab.research.google.com/github/Govind-Kannan/ARTIFICIAL-NUERAL-NETWORK/blob/main/Image_Classification.ipynb\" target=\"_parent\"><img src=\"https://colab.research.google.com/assets/colab-badge.svg\" alt=\"Open In Colab\"/></a>"
      ]
    },
    {
      "cell_type": "code",
      "execution_count": null,
      "metadata": {
        "id": "ZMyu0_U_h2Ur",
        "colab": {
          "base_uri": "https://localhost:8080/"
        },
        "outputId": "91812af3-69d8-4168-beb6-1c97c192d8a9"
      },
      "outputs": [
        {
          "output_type": "stream",
          "name": "stdout",
          "text": [
            "Drive already mounted at /content/drive; to attempt to forcibly remount, call drive.mount(\"/content/drive\", force_remount=True).\n"
          ]
        }
      ],
      "source": [
        "#drive mount\n",
        "from google.colab import drive\n",
        "drive.mount('/content/drive')"
      ]
    },
    {
      "cell_type": "code",
      "source": [
        "import pandas as pd\n",
        "from sklearn.svm import SVC\n",
        "import numpy as np\n",
        "import matplotlib.pyplot as plt\n",
        "import os #files and dictionary path define\n",
        "from skimage.io import imread #used for read image\n",
        "from sklearn.model_selection import train_test_split\n",
        "from skimage.transform import resize\n",
        "from sklearn.metrics import confusion_matrix,accuracy_score"
      ],
      "metadata": {
        "id": "0YfNNoFXl7xN"
      },
      "execution_count": 14,
      "outputs": []
    },
    {
      "cell_type": "code",
      "source": [
        "os.listdir('/content/drive/MyDrive/DATA')"
      ],
      "metadata": {
        "colab": {
          "base_uri": "https://localhost:8080/"
        },
        "id": "IvJYcJ3PjW5K",
        "outputId": "770cbba5-1f65-410a-caa6-9d1b4f4a3f17"
      },
      "execution_count": null,
      "outputs": [
        {
          "output_type": "execute_result",
          "data": {
            "text/plain": [
              "['Dog', 'Cat']"
            ]
          },
          "metadata": {},
          "execution_count": 3
        }
      ]
    },
    {
      "cell_type": "code",
      "source": [
        "len(os.listdir('/content/drive/MyDrive/DATA/Cat'))"
      ],
      "metadata": {
        "colab": {
          "base_uri": "https://localhost:8080/"
        },
        "id": "rVl-XfcrmnXP",
        "outputId": "dc2c4789-1337-47b4-8bb2-d67b7e0beee6"
      },
      "execution_count": null,
      "outputs": [
        {
          "output_type": "execute_result",
          "data": {
            "text/plain": [
              "85"
            ]
          },
          "metadata": {},
          "execution_count": 4
        }
      ]
    },
    {
      "cell_type": "code",
      "source": [
        "len(os.listdir('/content/drive/MyDrive/DATA/Dog'))"
      ],
      "metadata": {
        "colab": {
          "base_uri": "https://localhost:8080/"
        },
        "id": "Ix1YVF3CmzKM",
        "outputId": "c99dd9c7-2776-4bf4-d79b-f762e9ca1425"
      },
      "execution_count": null,
      "outputs": [
        {
          "output_type": "execute_result",
          "data": {
            "text/plain": [
              "68"
            ]
          },
          "metadata": {},
          "execution_count": 5
        }
      ]
    },
    {
      "cell_type": "code",
      "source": [
        "#cat\n",
        "#dog\n",
        "catpath=os.path.join('/content/drive/MyDrive/DATA','Cat')\n",
        "for img in os.listdir(catpath):\n",
        " print(img)"
      ],
      "metadata": {
        "colab": {
          "base_uri": "https://localhost:8080/"
        },
        "id": "c4ut55OGm8CJ",
        "outputId": "301fefe4-2aa4-4fc6-8bae-b1f17b2b6cd4"
      },
      "execution_count": null,
      "outputs": [
        {
          "output_type": "stream",
          "name": "stdout",
          "text": [
            "cat.35.jpg\n",
            "cat.36.jpg\n",
            "cat.37.jpg\n",
            "cat.38.jpg\n",
            "cat.39.jpg\n",
            "cat.40.jpg\n",
            "cat.41.jpg\n",
            "cat.42.jpg\n",
            "cat.43.jpg\n",
            "cat.44.jpg\n",
            "cat.45.jpg\n",
            "cat.46.jpg\n",
            "cat.47.jpg\n",
            "cat.48.jpg\n",
            "cat.49.jpg\n",
            "cat.50.jpg\n",
            "cat.51.jpg\n",
            "cat.52.jpg\n",
            "cat.53.jpg\n",
            "cat.54.jpg\n",
            "cat.55.jpg\n",
            "cat.56.jpg\n",
            "cat.57.jpg\n",
            "cat.58.jpg\n",
            "cat.59.jpg\n",
            "cat.60.jpg\n",
            "cat.61.jpg\n",
            "cat.62.jpg\n",
            "cat.63.jpg\n",
            "cat.64.jpg\n",
            "cat.65.jpg\n",
            "cat.66.jpg\n",
            "cat.67.jpg\n",
            "cat.68.jpg\n",
            "cat.69.jpg\n",
            "cat.70.jpg\n",
            "cat.71.jpg\n",
            "cat.72.jpg\n",
            "cat.73.jpg\n",
            "cat.74.jpg\n",
            "cat.75.jpg\n",
            "cat.76.jpg\n",
            "cat.77.jpg\n",
            "cat.78.jpg\n",
            "cat.79.jpg\n",
            "cat.80.jpg\n",
            "cat.81.jpg\n",
            "cat.82.jpg\n",
            "cat.83.jpg\n",
            "cat.84.jpg\n",
            "cat.85.jpg\n",
            "cat.86.jpg\n",
            "cat.87.jpg\n",
            "cat.88.jpg\n",
            "cat.89.jpg\n",
            "cat.90.jpg\n",
            "cat.91.jpg\n",
            "cat.92.jpg\n",
            "cat.93.jpg\n",
            "cat.94.jpg\n",
            "cat.95.jpg\n",
            "cat.96.jpg\n",
            "cat.97.jpg\n",
            "cat.98.jpg\n",
            "cat.99.jpg\n",
            "cat.100.jpg\n",
            "cat.101.jpg\n",
            "cat.102.jpg\n",
            "cat.103.jpg\n",
            "cat.104.jpg\n",
            "cat.105.jpg\n",
            "cat.106.jpg\n",
            "cat.107.jpg\n",
            "cat.108.jpg\n",
            "cat.109.jpg\n",
            "cat.110.jpg\n",
            "cat.111.jpg\n",
            "cat.112.jpg\n",
            "cat.113.jpg\n",
            "cat.114.jpg\n",
            "cat.115.jpg\n",
            "cat.116.jpg\n",
            "cat.117.jpg\n",
            "cat.118.jpg\n",
            "cat.119.jpg\n"
          ]
        }
      ]
    },
    {
      "cell_type": "code",
      "source": [
        "dogpath=os.path.join('/content/drive/MyDrive/DATA','Dog')\n",
        "for img in os.listdir(dogpath):\n",
        " print(img)"
      ],
      "metadata": {
        "colab": {
          "base_uri": "https://localhost:8080/"
        },
        "id": "P-wVjFIVnYhU",
        "outputId": "e623c801-60cb-4c97-d028-78e115f9605f"
      },
      "execution_count": null,
      "outputs": [
        {
          "output_type": "stream",
          "name": "stdout",
          "text": [
            "dog.1.jpg\n",
            "dog.2.jpg\n",
            "dog.3.jpg\n",
            "dog.4.jpg\n",
            "dog.5.jpg\n",
            "dog.6.jpg\n",
            "dog.7.jpg\n",
            "dog.8.jpg\n",
            "dog.9.jpg\n",
            "dog.10.jpg\n",
            "dog.11.jpg\n",
            "dog.12.jpg\n",
            "dog.13.jpg\n",
            "dog.14.jpg\n",
            "dog.15.jpg\n",
            "dog.16.jpg\n",
            "dog.17.jpg\n",
            "dog.18.jpg\n",
            "dog.19.jpg\n",
            "dog.20.jpg\n",
            "dog.21.jpg\n",
            "dog.22.jpg\n",
            "dog.23.jpg\n",
            "dog.24.jpg\n",
            "dog.25.jpg\n",
            "dog.26.jpg\n",
            "dog.27.jpg\n",
            "dog.28.jpg\n",
            "dog.29.jpg\n",
            "dog.30.jpg\n",
            "dog.31.jpg\n",
            "dog.32.jpg\n",
            "dog.33.jpg\n",
            "dog.34.jpg\n",
            "dog.35.jpg\n",
            "dog.36.jpg\n",
            "dog.37.jpg\n",
            "dog.38.jpg\n",
            "dog.39.jpg\n",
            "dog.40.jpg\n",
            "dog.41.jpg\n",
            "dog.42.jpg\n",
            "dog.43.jpg\n",
            "dog.44.jpg\n",
            "dog.45.jpg\n",
            "dog.46.jpg\n",
            "dog.47.jpg\n",
            "dog.48.jpg\n",
            "dog.49.jpg\n",
            "dog.50.jpg\n",
            "dog.51.jpg\n",
            "dog.52.jpg\n",
            "dog.53.jpg\n",
            "dog.54.jpg\n",
            "dog.55.jpg\n",
            "dog.56.jpg\n",
            "dog.57.jpg\n",
            "dog.58.jpg\n",
            "dog.59.jpg\n",
            "dog.60.jpg\n",
            "dog.61.jpg\n",
            "dog.62.jpg\n",
            "dog.63.jpg\n",
            "dog.64.jpg\n",
            "dog.65.jpg\n",
            "dog.66.jpg\n",
            "dog.67.jpg\n",
            "dog.68.jpg\n"
          ]
        }
      ]
    },
    {
      "cell_type": "code",
      "source": [
        "flat_data_arr=[] #used for collectin input variables\n",
        "target_arr=[] #used for collecting output variables\n",
        "categories=['Cat','Dog'] #cat>>>>cat>>>>>>>>>0, Dog=1\n",
        "datadir='/content/drive/MyDrive/DATA'"
      ],
      "metadata": {
        "id": "DmyhsTB_nv3s"
      },
      "execution_count": null,
      "outputs": []
    },
    {
      "cell_type": "code",
      "source": [
        "for i in categories: #cat,dog\n",
        " print(\"Loading categories.......\") #cat\n",
        " path=os.path.join(datadir,i) #/content/drive/MyDrive/DATA,cat\n",
        " for img in os.listdir(path):\n",
        "   img_arr=imread(os.path.join(path,img))\n",
        "   img_resize=resize(img_arr,(150,150,3))\n",
        "   flat_data_arr.append(img_resize.flatten())\n",
        "   target_arr.append(categories.index(i))\n",
        " print(\"Loaded completely\",i)"
      ],
      "metadata": {
        "colab": {
          "base_uri": "https://localhost:8080/"
        },
        "id": "f4O2Pn0GohB8",
        "outputId": "9f8c2e76-545f-4052-ef95-b0e2ef27ad31"
      },
      "execution_count": null,
      "outputs": [
        {
          "output_type": "stream",
          "name": "stdout",
          "text": [
            "Loading categories.......\n",
            "Loaded completely Cat\n",
            "Loading categories.......\n",
            "Loaded completely Dog\n"
          ]
        }
      ]
    },
    {
      "cell_type": "code",
      "source": [
        "flat_data=np.array(flat_data_arr)#converted into array\n",
        "target_data=np.array(target_arr)#converted int array\n",
        "df=pd.DataFrame(flat_data)\n",
        "df['Target']=target_data"
      ],
      "metadata": {
        "id": "xiXVli8Tqq8r"
      },
      "execution_count": null,
      "outputs": []
    },
    {
      "cell_type": "code",
      "source": [
        "x=df.iloc[:,:-1]\n",
        "y=df.iloc[:,-1]\n",
        "x_train,x_test,y_train,y_test=train_test_split(x,y,test_size=0.30,random_state=42)"
      ],
      "metadata": {
        "id": "RWuHRpBy1wG5"
      },
      "execution_count": 12,
      "outputs": []
    },
    {
      "cell_type": "code",
      "source": [
        "model=SVC()\n",
        "model.fit(x_train,y_train)\n",
        "y_pred=model.predict(x_test)\n",
        "y_pred"
      ],
      "metadata": {
        "colab": {
          "base_uri": "https://localhost:8080/"
        },
        "id": "iEMvn7GZ49c4",
        "outputId": "e99495e5-46c4-4050-beaf-5e767e09cdb0"
      },
      "execution_count": 16,
      "outputs": [
        {
          "output_type": "execute_result",
          "data": {
            "text/plain": [
              "array([1, 1, 0, 0, 1, 1, 0, 0, 1, 0, 1, 1, 0, 0, 0, 0, 0, 0, 1, 0, 0, 0,\n",
              "       0, 1, 0, 0, 0, 0, 0, 0, 1, 0, 1, 0, 0, 0, 0, 0, 1, 1, 0, 1, 1, 0,\n",
              "       0, 1])"
            ]
          },
          "metadata": {},
          "execution_count": 16
        }
      ]
    },
    {
      "cell_type": "code",
      "source": [
        "print(\"Accuracy_score is\",accuracy_score(y_test,y_pred))"
      ],
      "metadata": {
        "id": "_3DpLJSG2zTj",
        "colab": {
          "base_uri": "https://localhost:8080/"
        },
        "outputId": "84509baf-4e6e-4a14-b0bb-78199aeb0d91"
      },
      "execution_count": 17,
      "outputs": [
        {
          "output_type": "stream",
          "name": "stdout",
          "text": [
            "Accuracy_score is 0.5434782608695652\n"
          ]
        }
      ]
    },
    {
      "cell_type": "code",
      "source": [
        "path1 = '/content/drive/MyDrive/DATA/Cat/cat.100.jpg'\n",
        "img = imread(path1)\n",
        "img = resize(img, (150, 150, 3)).flatten().reshape(1, -1)\n",
        "model.predict(img)"
      ],
      "metadata": {
        "colab": {
          "base_uri": "https://localhost:8080/"
        },
        "id": "qyaTrgSX3q3Z",
        "outputId": "22db4dfd-50d3-4f81-df40-b732fabfca86"
      },
      "execution_count": 21,
      "outputs": [
        {
          "output_type": "execute_result",
          "data": {
            "text/plain": [
              "array([1])"
            ]
          },
          "metadata": {},
          "execution_count": 21
        }
      ]
    }
  ]
}